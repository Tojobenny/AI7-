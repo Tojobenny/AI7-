{
 "cells": [
  {
   "cell_type": "code",
   "execution_count": null,
   "metadata": {},
   "outputs": [],
   "source": [
    "import plotly.express as px\n",
    "import plotly.graph_objects as go\n",
    "import plotly.figure_factory as ff\n",
    "from plotly.subplots import make_subplots\n",
    "\n",
    "import folium\n",
    "import pandas as pd\n",
    "import numpy as np\n",
    "import matplotlib.pyplot as plt\n",
    "%matplotlib inline\n",
    "\n",
    "import math\n",
    "import random\n",
    "from datetime import timedelta\n",
    "import warnings\n",
    "warnings.filterwarnings('ignore')\n",
    "import cufflinks as cf\n",
    "cf.go_offline()"
   ]
  },
  {
   "cell_type": "code",
   "execution_count": null,
   "metadata": {},
   "outputs": [],
   "source": [
    "import seaborn as sns\n",
    "from datetime import datetime, timedelta,date\n",
    "import plotly.express as px\n",
    "from statsmodels.tsa.arima_model import ARIMA\n",
    "#color pallette\n",
    "cnf = '#393e46'\n",
    "dth = '#ff2e63'\n",
    "rec = '#21bf73'\n",
    "act = '#fe9801'\n",
    "\n",
    "import plotly as py\n",
    "\n"
   ]
  },
  {
   "cell_type": "raw",
   "metadata": {},
   "source": [
    "world data"
   ]
  },
  {
   "cell_type": "code",
   "execution_count": null,
   "metadata": {},
   "outputs": [],
   "source": [
    "df = pd.read_csv('https://raw.githubusercontent.com/laxmimerit/Covid-19-Preprocessed-Dataset/master/preprocessed/covid_19_data_cleaned.csv', parse_dates=['Date'])\n",
    "country_daywise = pd.read_csv('https://raw.githubusercontent.com/laxmimerit/Covid-19-Preprocessed-Dataset/master/preprocessed/country_daywise.csv', parse_dates=['Date'])\n",
    "countywise = pd.read_csv('https://raw.githubusercontent.com/laxmimerit/Covid-19-Preprocessed-Dataset/master/preprocessed/countrywise.csv')\n",
    "daywise = pd.read_csv('https://raw.githubusercontent.com/laxmimerit/Covid-19-Preprocessed-Dataset/master/preprocessed/daywise.csv', parse_dates=['Date'])\n"
   ]
  },
  {
   "cell_type": "markdown",
   "metadata": {},
   "source": [
    "data cleaning"
   ]
  },
  {
   "cell_type": "code",
   "execution_count": null,
   "metadata": {},
   "outputs": [],
   "source": [
    "df['Province/State']=df['Province/State'].fillna(\"\")\n",
    "df['Date'] = df['Date'].astype(str)"
   ]
  },
  {
   "cell_type": "markdown",
   "metadata": {},
   "source": [
    "    WORLDWIDE covid(density mapbox)"
   ]
  },
  {
   "cell_type": "code",
   "execution_count": null,
   "metadata": {},
   "outputs": [],
   "source": [
    "fig=px.density_mapbox(df, lat='Lat',lon='Long',hover_name='Country',hover_data = ['Confirmed','Recovered','Deaths'],animation_frame='Date',color_continuous_scale='Portland',radius = 7,zoom = 0,height = 700)\n",
    "fig.update_layout(title='worldwide covid')\n",
    "fig.update_layout(mapbox_style='open-street-map',mapbox_center_lon=0)\n",
    "fig.show()"
   ]
  },
  {
   "cell_type": "markdown",
   "metadata": {},
   "source": [
    "worldwide cases overtime"
   ]
  },
  {
   "cell_type": "code",
   "execution_count": null,
   "metadata": {},
   "outputs": [],
   "source": [
    "temp=df.groupby('Date')['Confirmed','Recovered','Deaths','Active'].sum().reset_index()\n",
    "temp=temp.melt(id_vars='Date',value_vars=['Recovered','Deaths','Active'],var_name='case',value_name='count')\n",
    "\n",
    "fig=px.area(temp,x='Date',y='count',color='case',height=400,title='case overtime',color_discrete_sequence=[rec,dth,act])\n",
    "fig.update_layout(xaxis_rangeslider_visible=True)\n",
    "fig.show()"
   ]
  },
  {
   "cell_type": "markdown",
   "metadata": {},
   "source": [
    "Confirmed cases(countrys)"
   ]
  },
  {
   "cell_type": "code",
   "execution_count": null,
   "metadata": {},
   "outputs": [],
   "source": [
    "fig = px.bar(country_daywise, x = 'Date', y = 'Confirmed', color = 'Country', height = 600,\n",
    "             title = 'Confirmed', color_discrete_sequence = px.colors.cyclical.mygbm)\n",
    "\n",
    "fig.show()"
   ]
  },
  {
   "cell_type": "markdown",
   "metadata": {},
   "source": [
    "Death cases(countrys)"
   ]
  },
  {
   "cell_type": "code",
   "execution_count": null,
   "metadata": {},
   "outputs": [],
   "source": [
    "fig = px.bar(country_daywise, x = 'Date', y = 'Deaths', color = 'Country', height = 600,\n",
    "             title = 'Deaths', color_discrete_sequence = px.colors.cyclical.mygbm)\n",
    "\n",
    "fig.show()"
   ]
  },
  {
   "cell_type": "markdown",
   "metadata": {},
   "source": [
    "Recovered cases(country)"
   ]
  },
  {
   "cell_type": "code",
   "execution_count": null,
   "metadata": {},
   "outputs": [],
   "source": [
    "fig = px.bar(country_daywise, x = 'Date', y = 'Recovered', color = 'Country', height = 600,\n",
    "             title = 'Recovered', color_discrete_sequence = px.colors.cyclical.mygbm)\n",
    "\n",
    "fig.show()"
   ]
  },
  {
   "cell_type": "code",
   "execution_count": null,
   "metadata": {},
   "outputs": [],
   "source": [
    "full_latest = df[df['Date'] == max(df['Date'])]\n",
    "\n",
    "fig = px.treemap(full_latest.sort_values(by = 'Confirmed', ascending = False).reset_index(drop = True), \n",
    "                 path = ['Country', 'Province/State'], values = 'Confirmed', height = 700,\n",
    "                 title = 'Number of Confirmed Cases', color_discrete_sequence = px.colors.qualitative.Dark2)\n",
    "\n",
    "fig.data[0].textinfo = 'label+text+value'\n",
    "\n",
    "fig.show()"
   ]
  },
  {
   "cell_type": "markdown",
   "metadata": {},
   "source": [
    "Number of Deaths Cases (treemap)"
   ]
  },
  {
   "cell_type": "code",
   "execution_count": null,
   "metadata": {},
   "outputs": [],
   "source": [
    "full_latest = df[df['Date'] == max(df['Date'])]\n",
    "\n",
    "fig = px.treemap(full_latest.sort_values(by = 'Deaths', ascending = False).reset_index(drop = True), \n",
    "                 path = ['Country', 'Province/State'], values = 'Deaths', height = 700,\n",
    "                 title = 'Number of Deaths Cases', color_discrete_sequence = px.colors.qualitative.Dark2)\n",
    "\n",
    "fig.data[0].textinfo = 'label+text+value'\n",
    "\n",
    "fig.show()"
   ]
  },
  {
   "cell_type": "markdown",
   "metadata": {},
   "source": [
    "INDIAN dataset"
   ]
  },
  {
   "cell_type": "code",
   "execution_count": null,
   "metadata": {},
   "outputs": [],
   "source": [
    "df_age = pd.read_csv(\"https://raw.githubusercontent.com/rohitgupta29/AI7-/master/India_data/AgeGroupDetails.csv\",index_col = 0)\n",
    "df_india = pd.read_csv(\"https://raw.githubusercontent.com/rohitgupta29/AI7-/master/India_data/covid_19_india.csv\",index_col= 0)\n",
    "df_tests = pd.read_csv(\"https://raw.githubusercontent.com/rohitgupta29/AI7-/master/India_data/StatewiseTestingDetails.csv\")\n",
    "df_hosp = pd.read_csv('https://raw.githubusercontent.com/rohitgupta29/AI7-/master/India_data/HospitalBedsIndia.csv',index_col=0)\n",
    "df_pop = pd.read_csv('https://raw.githubusercontent.com/rohitgupta29/AI7-/master/India_data/population_india_census2011.csv',index_col= 0)\n",
    "df_labs = pd.read_csv('https://raw.githubusercontent.com/rohitgupta29/AI7-/master/India_data/ICMRTestingLabs.csv')"
   ]
  },
  {
   "cell_type": "markdown",
   "metadata": {},
   "source": [
    "Data cleaning"
   ]
  },
  {
   "cell_type": "code",
   "execution_count": null,
   "metadata": {},
   "outputs": [],
   "source": [
    "df_india.drop(df_india[df_india['State/UnionTerritory'] == 'Telangana***'].index,inplace = True)\n",
    "df_india.drop(df_india[df_india['State/UnionTerritory'] == 'Telengana***'].index,inplace = True)\n",
    "df_india.drop(df_india[df_india['State/UnionTerritory'] == 'Telengana'].index,inplace = True)\n",
    "df_india.drop(df_india[df_india['State/UnionTerritory'] == 'Unassigned'].index,inplace = True)"
   ]
  },
  {
   "cell_type": "code",
   "execution_count": null,
   "metadata": {},
   "outputs": [],
   "source": [
    "df_india['Date'] = pd.to_datetime(df_india['Date'],dayfirst=True)\n",
    "df_india['Date'] = df_india['Date'].dt.strftime('%m/%d/%Y')\n",
    "\n",
    "#Dropping Negative column as we already have 'TotalSamples' and 'Positive'\n",
    "\n",
    "df_tests.drop('Negative',axis =1 ,inplace = True)\n",
    "df_pop.set_index('State / Union Territory',inplace = True)"
   ]
  },
  {
   "cell_type": "code",
   "execution_count": null,
   "metadata": {},
   "outputs": [],
   "source": [
    "#Filling in Missing Data\n",
    "\n",
    "#For missing 'Positive' cases of COVID, the previous known value is filled in.\n",
    "df_tests['Positive'].fillna(method='ffill',inplace = True)\n",
    "\n",
    "#For missing 'Sub-District Hospitals' values, assumed 0 hospitals are present in state.\n",
    "df_hosp.fillna(0,inplace = True)"
   ]
  },
  {
   "cell_type": "code",
   "execution_count": null,
   "metadata": {},
   "outputs": [],
   "source": [
    "Table Analysis"
   ]
  },
  {
   "cell_type": "code",
   "execution_count": null,
   "metadata": {},
   "outputs": [],
   "source": [
    "\n",
    "state_report = df_india.groupby(by = 'State/UnionTerritory').max().reset_index()\n",
    "\n",
    "state_report['Active'] = (state_report['Confirmed'] - (state_report['Cured'] + state_report['Deaths']))\n",
    "state_report['Deaths per 100 Cases'] = round(((state_report['Deaths']/state_report['Confirmed'])*100),2)\n",
    "\n",
    "state_report.drop(columns = ['Time' , 'ConfirmedIndianNational' , 'ConfirmedForeignNational'],inplace = True)\n",
    "\n",
    "state_report.style.background_gradient(cmap = 'Greens',subset= ['Cured'])\\\n",
    "                    .background_gradient(cmap = 'Reds',subset= ['Deaths'])\\\n",
    "                    .background_gradient(cmap = 'Blues',subset= ['Confirmed'])\\\n",
    "                    .background_gradient(cmap = 'Greys',subset= ['Active'])\\\n",
    "                    .background_gradient(cmap = 'Reds',subset =\n",
    "                                         ['Deaths per 100 Cases']).format('{:.2f}', subset = ['Deaths per 100 Cases'])"
   ]
  },
  {
   "cell_type": "code",
   "execution_count": null,
   "metadata": {},
   "outputs": [],
   "source": [
    "#State latitudes and longitudes found using geopy\n",
    "\n",
    "Location_dict = {'Andaman and Nicobar Islands': (10.2188344, 92.5771329),\n",
    " 'Andhra Pradesh': (15.9240905, 80.1863809),\n",
    " 'Arunachal Pradesh': (27.6891712, 96.4597226),\n",
    " 'Assam': (26.4073841, 93.2551303),\n",
    " 'Bihar': (25.6440845, 85.906508),\n",
    " 'Chandigarh': (30.7334421, 76.7797143),\n",
    " 'Chhattisgarh': (21.6637359, 81.8406351),\n",
    " 'Daman & Diu': (20.42000485, 72.86376290300566),\n",
    " 'Delhi': (28.6517178, 77.2219388),\n",
    " 'Goa': (15.3004543, 74.0855134),\n",
    " 'Gujarat': (22.41540825, 72.03149703699282),\n",
    " 'Haryana': (29.0, 76.0),\n",
    " 'Himachal Pradesh': (31.81676015, 77.34932051968858),\n",
    " 'Jammu and Kashmir': (33.5574473, 75.06152),\n",
    " 'Jharkhand': (23.4559809, 85.2557301),\n",
    " 'Karnataka': (14.5203896, 75.7223521),\n",
    " 'Kerala': (10.3528744, 76.5120396),\n",
    " 'Ladakh': (33.9456407, 77.6568576),\n",
    " 'Madhya Pradesh': (23.9699282, 79.39486954625225),\n",
    " 'Maharashtra': (19.531932, 76.0554568),\n",
    " 'Manipur': (24.7208818, 93.9229386),\n",
    " 'Meghalaya': (25.5379432, 91.2999102),\n",
    " 'Mizoram': (23.2146169, 92.8687612),\n",
    " 'Nagaland': (26.1630556, 94.5884911),\n",
    " 'Odisha': (20.5431241, 84.6897321),\n",
    " 'Puducherry': (11.9340568, 79.8306447),\n",
    " 'Punjab': (30.9293211, 75.5004841),\n",
    " 'Rajasthan': (26.8105777, 73.7684549),\n",
    " 'Sikkim': (27.601029, 88.45413638680145),\n",
    " 'Tamil Nadu': (10.9094334, 78.3665347),\n",
    " 'Telangana': (17.8495919, 79.1151663),\n",
    " 'Telengana': (17.329125, 78.5822228),\n",
    " 'Tripura': (23.7750823, 91.7025091),\n",
    " 'Uttar Pradesh': (27.1303344, 80.859666),\n",
    " 'Uttarakhand': (30.091993549999998, 79.32176659343018),\n",
    " 'West Bengal': (22.9964948, 87.6855882)}"
   ]
  },
  {
   "cell_type": "markdown",
   "metadata": {},
   "source": [
    "Indian map with hotsport (folium map)"
   ]
  },
  {
   "cell_type": "code",
   "execution_count": null,
   "metadata": {},
   "outputs": [],
   "source": [
    "map_states = state_report.drop(index=[5,8,9,36],errors = 'ignore')\n",
    "map_states.reset_index(inplace = True,drop = True)\n",
    "\n",
    "india_map = folium.Map(location=[21, 78], zoom_start=5, tiles = 'cartodbpositron',min_zoom = 5, max_zoom = 7,control_scale=True)\n",
    "\n",
    "\n",
    "for i in range(0,len(map_states)):\n",
    "    state = map_states['State/UnionTerritory'][i]\n",
    "    cases = map_states['Confirmed'][i]  \n",
    "    deaths = map_states['Deaths'][i]\n",
    "    cured = map_states['Cured'][i]\n",
    "    \n",
    "    location = Location_dict[state]\n",
    "    \n",
    "    folium.Circle([location[0],location[1]],radius = float(cases * 0.8),color = 'blue',fill_color = 'red',\n",
    "                  fill = True, \n",
    "                  tooltip = \"<h5 style = 'text-align:center;font-weight:bold'>\"+state+\"</h5>\"\\\n",
    "                  + \"<div style = 'text-align:center;'>\" + \"<b>\"+'Confirmed : '+\"</b>\"+ str(cases)+\"</div>\"\\\n",
    "                  + \"<div style = 'text-align:center;'>\" + \"<b>\"+'Recovered : '+\"</b>\"+ str(cured)+\"</div>\"\\\n",
    "                  + \"<div style = 'text-align:center;'>\" + \"<b>\"+'Deaths : '+\"</b>\"+ str(deaths)+\"</div>\").add_to(india_map)\n",
    "    \n",
    "india_map.save('indiamap.html')\n",
    "india_map\n"
   ]
  },
  {
   "cell_type": "markdown",
   "metadata": {},
   "source": [
    "Top 20 States by Confirmed Cases"
   ]
  },
  {
   "cell_type": "code",
   "execution_count": null,
   "metadata": {},
   "outputs": [],
   "source": [
    "#X------------------------------------------------------------------------------------------------------------------------------------------------X\n",
    "\n",
    "temp = state_report.sort_values(by = 'Confirmed',ascending= False)[0:20]\n",
    "temp.reset_index(inplace = True,drop = True)\n",
    "\n",
    "temp.sort_values(by = 'Confirmed',ascending = False)\n",
    "\n",
    "plt.figure(figsize= (20,15))\n",
    "fig2 = px.bar(data_frame=temp, x = temp['State/UnionTerritory'], y=temp['Confirmed'],\n",
    "            color_continuous_scale= px.colors.sequential.Mint, color = 'Confirmed',\n",
    "            text='Confirmed',template = 'plotly_white',\n",
    "            labels = {'State/UnionTerritory':'State','Confirmed':'Confirmed Cases '},\n",
    "            hover_name = 'State/UnionTerritory',\n",
    "            hover_data = {'Confirmed':True,'State/UnionTerritory':False}, )\n",
    "\n",
    "fig2.update_layout(title = {\n",
    "    'text' : 'Top 20 States by Confirmed Cases',\n",
    "    'y':0.95,\n",
    "    'x':0.5,\n",
    "    'xanchor': 'center',\n",
    "    'yanchor': 'top'},\n",
    "    xaxis_title = '')\n",
    "\n",
    "fig2.update_traces(texttemplate = '%{text:.2s}',textposition = 'outside',textfont_size =13)\n",
    "\n",
    "\n",
    "fig2.show()"
   ]
  },
  {
   "cell_type": "markdown",
   "metadata": {},
   "source": [
    "Available Research Facilities in State based on Lab Type"
   ]
  },
  {
   "cell_type": "code",
   "execution_count": null,
   "metadata": {},
   "outputs": [],
   "source": [
    "def changetoint(column):\n",
    "    for i,v in enumerate(column):\n",
    "        n = ''\n",
    "        n = n.join([x for x in v if x.isdigit()])\n",
    "        \n",
    "        return int(n)\n",
    "\n",
    "df_hosp['NumPrimaryHealthCenters_HMIS'] = df_hosp['NumPrimaryHealthCenters_HMIS'].apply(changetoint)\n",
    "\n",
    "df_hosp.drop(index = df_hosp.index[df_hosp['State/UT'] == 'All India'],inplace = True)\n",
    "#Taking a look at lab data.\n",
    "sunburst_data = df_labs[['type','state']]\n",
    "px.sunburst(sunburst_data,path = ['type','state'],color = 'type',\n",
    "            \n",
    "           color_discrete_sequence = px.colors.qualitative.Pastel,height = 750,width = 750,template = 'ggplot2',title='Available Research Facilities in State based on Lab Type')"
   ]
  },
  {
   "cell_type": "markdown",
   "metadata": {},
   "source": [
    "State-wise Distribution of Health Facilites"
   ]
  },
  {
   "cell_type": "code",
   "execution_count": null,
   "metadata": {},
   "outputs": [],
   "source": [
    "\n",
    "top_community_hosp = df_hosp.nlargest(10,'NumCommunityHealthCenters_HMIS')\n",
    "top_primary_hosp = df_hosp.nlargest(10,'NumPrimaryHealthCenters_HMIS')\n",
    "top_rural_hosp = df_hosp.nlargest(10,'NumRuralHospitals_NHP18')\n",
    "total_hosp =  df_hosp.nlargest(10,'TotalPublicHealthFacilities_HMIS')\n",
    "\n",
    "plt.figure(figsize = (20,10),dpi = 200)\n",
    "plt.style.use(u'ggplot')\n",
    "\n",
    "plt.subplot(2,2,1)\n",
    "\n",
    "sns.barplot(y = top_community_hosp['State/UT'], x = top_community_hosp['NumCommunityHealthCenters_HMIS'],data= df_hosp,\n",
    "            orient = 'h' , color = '#58A25D')\n",
    "plt.xlabel('')\n",
    "plt.ylabel(\"\")\n",
    "plt.title('Number of Community Health Centres',fontsize = 17)\n",
    "plt.tick_params(labelsize = 13)\n",
    "\n",
    "\n",
    "plt.subplot(2,2,2)\n",
    "\n",
    "sns.barplot(y = top_rural_hosp['State/UT'], x = top_rural_hosp['NumRuralHospitals_NHP18'],data= df_hosp,\n",
    "            orient = 'h' , color = '#8ABC7C')\n",
    "plt.xlabel('')\n",
    "plt.ylabel(\"\")\n",
    "plt.title('Number of Rural Health Facilities',fontsize = 17)\n",
    "plt.tick_params(labelsize = 13)\n",
    "\n",
    "\n",
    "plt.subplot(2,2,3)\n",
    "\n",
    "sns.barplot(y = top_primary_hosp['State/UT'], x = top_primary_hosp['NumPrimaryHealthCenters_HMIS'],data= df_hosp,\n",
    "            orient = 'h' , color = '#00AAAA')\n",
    "plt.xlabel('')\n",
    "plt.ylabel(\"\")\n",
    "plt.title('Number of Primary Health Centres',fontsize = 17)\n",
    "plt.tick_params(labelsize = 13)\n",
    "\n",
    "\n",
    "plt.subplot(2,2,4)\n",
    "\n",
    "sns.barplot(y = total_hosp['State/UT'], x = total_hosp['TotalPublicHealthFacilities_HMIS'],data= df_hosp,\n",
    "            orient = 'h' , color = '#008B8B')\n",
    "\n",
    "plt.xlabel('')\n",
    "plt.ylabel(\"\")\n",
    "plt.title('Total Public Health Facilities',fontsize = 17)\n",
    "plt.tick_params(labelsize = 13)\n",
    "\n",
    "plt.suptitle('State-wise Distribution of Health Facilites',fontsize = 25,x = 0.65)\n",
    "plt.tight_layout(rect=[0, 0.05, 1.2, 0.95])"
   ]
  },
  {
   "cell_type": "markdown",
   "metadata": {},
   "source": [
    "COVID Tests Done vs Positive Cases for Every 1000 tests"
   ]
  },
  {
   "cell_type": "code",
   "execution_count": null,
   "metadata": {},
   "outputs": [],
   "source": [
    "latest_tests = df_tests.groupby('State').max().sort_values('TotalSamples',ascending = False)[0:20]\n",
    "latest_tests['Ratio'] = round((latest_tests['Positive']/latest_tests['TotalSamples'])*1000,2)\n",
    "\n",
    "fig = px.bar(data_frame = latest_tests,\n",
    "              y  = latest_tests['TotalSamples'],x =  latest_tests['TotalSamples'].index,template = 'ggplot2',text = latest_tests['Ratio'],\n",
    "              color = latest_tests['Ratio'],color_continuous_scale= px.colors.sequential.Redor,labels = {'x':'State','TotalSamples':'Number of COVID Tests Done',\"Ratio\":'5Positive Cases for every 1000 tests'},\n",
    "              height = 600,width  = 1500)\n",
    "\n",
    "fig.update_layout(title = {\n",
    "    'text': 'COVID Tests Done vs Positive Cases for Every 1000 tests'\n",
    "})\n",
    "fig.update_traces(textposition = 'outside',textfont_size = 13)"
   ]
  },
  {
   "cell_type": "markdown",
   "metadata": {},
   "source": [
    "Confirmed cases - Post testing"
   ]
  },
  {
   "cell_type": "code",
   "execution_count": null,
   "metadata": {},
   "outputs": [],
   "source": [
    "df_india['Date'] = pd.to_datetime(df_india['Date'])\n",
    "recent_dates = df_india[df_india[\"Date\"] > pd.to_datetime('03/10/20')]\n",
    "\n",
    "current_date = str(recent_dates['Date'].max())\n",
    "recent_dates['Date'] = recent_dates['Date'].dt.strftime('%Y-%m-%d')\n",
    "\n",
    "fig = px.bar(recent_dates,x ='State/UnionTerritory',y = 'Confirmed',animation_frame = 'Date',\n",
    "             template = 'ggplot2',title = 'Confirmed Cases',\n",
    "             color = 'Confirmed',height = 600,width  = 1500)\n",
    "fig.update_layout(xaxis={'categoryorder':'total descending'})"
   ]
  },
  {
   "cell_type": "code",
   "execution_count": null,
   "metadata": {},
   "outputs": [],
   "source": [
    "df_india['Date'] = pd.to_datetime(df_india['Date'])\n",
    "\n",
    "latest = df_india[df_india[\"Date\"] > pd.to_datetime('2020-04-01')]\n",
    "\n",
    "latest2 = latest.groupby('State/UnionTerritory')['Confirmed','Deaths','Cured',\"Date\"].max().reset_index()\n",
    "\n",
    "latest2['Active'] = latest2['Confirmed'] - (latest2['Deaths'] - latest2['Cured'])\n",
    "\n",
    "state_list = list(latest2.sort_values('Active',ascending = False)['State/UnionTerritory'])[0:15]\n",
    "\n",
    "states_confirmed = {}\n",
    "states_deaths = {}\n",
    "states_recovered = {}\n",
    "states_active = {}\n",
    "states_dates = {}"
   ]
  },
  {
   "cell_type": "code",
   "execution_count": null,
   "metadata": {},
   "outputs": [],
   "source": [
    "file =\"https://raw.githubusercontent.com/rohitgupta29/AI7-/master/COVID%20clinical%20trials.csv\"\n",
    "\n",
    "trials = pd.read_csv(file)\n",
    "covid_updated = trials.drop(['URL', 'Study Results', 'Study Documents','Results First Posted', 'Last Update Posted', 'Outcome Measures','Study Designs','First Posted','Other IDs'],axis =1)\n"
   ]
  },
  {
   "cell_type": "code",
   "execution_count": null,
   "metadata": {},
   "outputs": [],
   "source": [
    "covid_updated['Phases'].value_counts().drop('Not Applicable').iplot(kind='bar', color='blue',\n",
    "                                                                    xTitle='Vaccine Phase Types',\n",
    "                                                                    yTitle='Number of Candidates')"
   ]
  },
  {
   "cell_type": "markdown",
   "metadata": {},
   "source": [
    "What Age Bracket and Gender are these Studies considering?"
   ]
  },
  {
   "cell_type": "code",
   "execution_count": null,
   "metadata": {},
   "outputs": [],
   "source": [
    "\n",
    "import re\n",
    "def cleanAge(age):\n",
    "    if len(re.findall(r'\\(.*\\)',age)):\n",
    "        return re.findall(r'\\(.*\\)',age)[0]\n",
    "    return '('+age+')'"
   ]
  },
  {
   "cell_type": "code",
   "execution_count": null,
   "metadata": {},
   "outputs": [],
   "source": [
    "ageData = trials.Age.apply(lambda x : cleanAge(x))\n",
    "ageData.hist()"
   ]
  },
  {
   "cell_type": "code",
   "execution_count": null,
   "metadata": {},
   "outputs": [],
   "source": [
    "trials['AgeBrackets'] = ageData\n",
    "i = 0\n",
    "fig = make_subplots(rows=3, cols=2, subplot_titles=list(pd.DataFrame(trials.groupby(['AgeBrackets'])['Gender'].value_counts()).unstack().index))\n",
    "for row in range(1,4):\n",
    "    for col in range(1,3):\n",
    "        dt = pd.DataFrame(trials.groupby(['AgeBrackets'])['Gender'].value_counts()).unstack().iloc[i]\n",
    "        fig.add_trace(go.Bar(x=dt.Gender.index,y=dt.Gender.values),row = row, col = col)        \n",
    "        i+=1\n",
    "fig.show()"
   ]
  },
  {
   "cell_type": "code",
   "execution_count": null,
   "metadata": {},
   "outputs": [],
   "source": []
  }
 ],
 "metadata": {
  "kernelspec": {
   "display_name": "Python 3",
   "language": "python",
   "name": "python3"
  },
  "language_info": {
   "codemirror_mode": {
    "name": "ipython",
    "version": 3
   },
   "file_extension": ".py",
   "mimetype": "text/x-python",
   "name": "python",
   "nbconvert_exporter": "python",
   "pygments_lexer": "ipython3",
   "version": "3.7.6"
  }
 },
 "nbformat": 4,
 "nbformat_minor": 4
}
